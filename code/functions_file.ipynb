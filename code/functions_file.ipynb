{
 "cells": [
  {
   "cell_type": "markdown",
   "id": "35aeafcf-c570-4fa1-b17d-3925a9af2a8c",
   "metadata": {},
   "source": [
    "This code block handles the import statements and data loading, to keep the notebook clean."
   ]
  },
  {
   "cell_type": "code",
   "execution_count": 1,
   "id": "73166cfd-3ff6-42fc-9ba3-b21a7e7fec12",
   "metadata": {},
   "outputs": [],
   "source": [
    "import pandas as pd\n",
    "import kagglehub\n",
    "\n",
    "#Philadelphia 2025 Crime Statistics\n",
    "phil_2025 = pd.read_csv(\"/Users/pwax/Desktop/mcdermid_waxman_final_project/data/incidents_part1_part2.csv\")\n",
    "path_nfl = kagglehub.dataset_download(\"keonim/nfl-game-scores-dataset-2017-2023\")\n",
    "game_dates = pd.read_csv(f\"{path}/Season_Scores/2024_scores.csv\")\n"
   ]
  },
  {
   "cell_type": "code",
   "execution_count": 109,
   "id": "cc02511d-0650-478c-87ca-05305c18d447",
   "metadata": {},
   "outputs": [],
   "source": [
    "#game_date takes the team and year, and returns home_game_dates, away_game_dates, game_result.\n",
    "def nfl_game_date(year, team):\n",
    "    #load the specific year\n",
    "    df = pd.read_csv(f\"{path_nfl}/Season_Scores/{year}_scores.csv\")\n",
    "    df = df.dropna(subset=['Date'])\n",
    "\n",
    "    \n",
    "    #subsets the df to games where the team is playing\n",
    "    df_away = df[(df[\"AwayTeam\"] == team)]\n",
    "    df_home = df[(df[\"HomeTeam\"] == team)]\n",
    "        \n",
    "    home_dates_with_year = df_home['Date'].apply(\n",
    "        lambda x: f\"{x}/{year+1}\" if int(str(x).split('/')[0]) <= 6 \n",
    "        else f\"{x}/{year}\")    \n",
    "    away_dates_with_year = df_away['Date'].apply(\n",
    "        lambda x: f\"{x}/{year+1}\" if int(str(x).split('/')[0]) <= 6 \n",
    "        else f\"{x}/{year}\")\n",
    "    \n",
    "    # Now convert to datetime\n",
    "    home_game_dates = pd.to_datetime(home_dates_with_year)\n",
    "    away_game_dates = pd.to_datetime(away_dates_with_year)\n",
    "\n",
    "    #Gets the result of the game\n",
    "    home_game_win = df_home['HomeWin'].to_list()\n",
    "    away_game_win = df_away['AwayWin'].to_list()\n",
    "\n",
    "    #Convert to boolean\n",
    "    home_game_win = [bool(x) for x in home_game_win]\n",
    "    away_game_win = [bool(x) for x in away_game_win]\n",
    "\n",
    "    #Creates an away, home df, with the pairs for results and tags the Location\n",
    "    home = pd.DataFrame(list(zip(home_game_dates, home_game_win)))\n",
    "    away = pd.DataFrame(list(zip(away_game_dates, away_game_win)))\n",
    "    home[\"Location\"] = \"Home\"\n",
    "    away[\"Location\"] = \"Away\"\n",
    "\n",
    "    #puts the two together and sorts them by date\n",
    "    season = pd.concat([home, away], ignore_index=True) \n",
    "    season.columns = [\"Date\", \"Result\", \"Location\"]\n",
    "    season = season.sort_values('Date').reset_index(drop=True)    \n",
    "    \n",
    "    return season"
   ]
  },
  {
   "cell_type": "code",
   "execution_count": 112,
   "id": "bb4c7df6-4c13-4b74-918f-386ab57d085a",
   "metadata": {},
   "outputs": [
    {
     "name": "stdout",
     "output_type": "stream",
     "text": [
      "Path to dataset files: /Users/pwax/.cache/kagglehub/datasets/nathanlauga/nba-games/versions/10\n"
     ]
    }
   ],
   "source": [
    "path_nba = kagglehub.dataset_download(\"nathanlauga/nba-games\")\n",
    "\n",
    "print(\"Path to dataset files:\", path_nba)"
   ]
  },
  {
   "cell_type": "code",
   "execution_count": 150,
   "id": "666a6825-e407-4d5a-bd4e-16f7b309dc3f",
   "metadata": {},
   "outputs": [],
   "source": [
    "def nba_game_date(year, team):\n",
    "    #first get teamId for this dataset\n",
    "    team_df = pd.read_csv(f\"{path_nba}/teams.csv\")\n",
    "\n",
    "    #searches the dataset for the ID, returns nothing if not found\n",
    "    team_id = team_df[team_df['NICKNAME'] == team]['TEAM_ID']\n",
    "    if not team_id.empty:\n",
    "        team_id = team_id.iloc[0]\n",
    "    else:\n",
    "        print(\"Team not found in dataset, look at the documentation.\")\n",
    "        return\n",
    "    print(team_id)\n",
    "    #use team_id and year to sort games wanted\n",
    "    df = pd.read_csv(f\"{path_nba}/games.csv\")\n",
    "    df['SEASON'] = df['SEASON'].astype('int')\n",
    "    df_home = df[(df[\"HOME_TEAM_ID\"] == team_id) & (df[\"SEASON\"] == int(year))]\n",
    "    df_away = df[(df[\"VISITOR_TEAM_ID\"] == team_id) & (df[\"SEASON\"] == int(year))]\n",
    "\n",
    "    \n",
    "    return df_home, df_away"
   ]
  },
  {
   "cell_type": "code",
   "execution_count": 151,
   "id": "add8a0e6-77fb-48e4-bac6-3cdae3ff3809",
   "metadata": {},
   "outputs": [
    {
     "name": "stdout",
     "output_type": "stream",
     "text": [
      "1610612764\n",
      "(Empty DataFrame\n",
      "Columns: [GAME_DATE_EST, GAME_ID, GAME_STATUS_TEXT, HOME_TEAM_ID, VISITOR_TEAM_ID, SEASON, TEAM_ID_home, PTS_home, FG_PCT_home, FT_PCT_home, FG3_PCT_home, AST_home, REB_home, TEAM_ID_away, PTS_away, FG_PCT_away, FT_PCT_away, FG3_PCT_away, AST_away, REB_away, HOME_TEAM_WINS]\n",
      "Index: []\n",
      "\n",
      "[0 rows x 21 columns], Empty DataFrame\n",
      "Columns: [GAME_DATE_EST, GAME_ID, GAME_STATUS_TEXT, HOME_TEAM_ID, VISITOR_TEAM_ID, SEASON, TEAM_ID_home, PTS_home, FG_PCT_home, FT_PCT_home, FG3_PCT_home, AST_home, REB_home, TEAM_ID_away, PTS_away, FG_PCT_away, FT_PCT_away, FG3_PCT_away, AST_away, REB_away, HOME_TEAM_WINS]\n",
      "Index: []\n",
      "\n",
      "[0 rows x 21 columns])\n"
     ]
    }
   ],
   "source": [
    "print(nba_game_date(2023,\"Wizards\"))"
   ]
  },
  {
   "cell_type": "code",
   "execution_count": null,
   "id": "348f7f31-81e5-4147-b0c1-8255295f52df",
   "metadata": {},
   "outputs": [],
   "source": []
  }
 ],
 "metadata": {
  "kernelspec": {
   "display_name": "Python 3 (ipykernel)",
   "language": "python",
   "name": "python3"
  },
  "language_info": {
   "codemirror_mode": {
    "name": "ipython",
    "version": 3
   },
   "file_extension": ".py",
   "mimetype": "text/x-python",
   "name": "python",
   "nbconvert_exporter": "python",
   "pygments_lexer": "ipython3",
   "version": "3.10.16"
  }
 },
 "nbformat": 4,
 "nbformat_minor": 5
}
