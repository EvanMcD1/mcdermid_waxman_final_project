{
 "cells": [
  {
   "cell_type": "markdown",
   "id": "4975df42-4f24-492d-bd34-5bfa5f302489",
   "metadata": {},
   "source": [
    "This python file contains the functions for our final project."
   ]
  },
  {
   "cell_type": "code",
   "execution_count": 2,
   "id": "cd8fc4c2-cf2b-4709-a3d7-0e1619451fdc",
   "metadata": {},
   "outputs": [],
   "source": [
    "import pandas as pd\n",
    "import kagglehub\n"
   ]
  },
  {
   "cell_type": "code",
   "execution_count": null,
   "id": "4df519fb-d37b-4698-893b-9707bfe89fcb",
   "metadata": {},
   "outputs": [],
   "source": []
  }
 ],
 "metadata": {
  "kernelspec": {
   "display_name": "Python 3 (ipykernel)",
   "language": "python",
   "name": "python3"
  },
  "language_info": {
   "codemirror_mode": {
    "name": "ipython",
    "version": 3
   },
   "file_extension": ".py",
   "mimetype": "text/x-python",
   "name": "python",
   "nbconvert_exporter": "python",
   "pygments_lexer": "ipython3",
   "version": "3.10.16"
  }
 },
 "nbformat": 4,
 "nbformat_minor": 5
}
